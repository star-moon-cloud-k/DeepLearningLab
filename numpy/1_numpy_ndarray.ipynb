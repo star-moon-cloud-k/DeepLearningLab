{
 "cells": [
  {
   "cell_type": "code",
   "execution_count": 2,
   "id": "af5ad904",
   "metadata": {},
   "outputs": [],
   "source": [
    "import numpy as np"
   ]
  },
  {
   "cell_type": "code",
   "execution_count": 22,
   "id": "34f832c0",
   "metadata": {},
   "outputs": [],
   "source": [
    "test_array = np.array([2,3,4,\"5\"], float)\n",
    "# String Type의 데이터를 입력해도\n",
    "# Float Type으로 자동 형변환을 실시\n",
    "# Array(배열) 전체의 데이터 Type을 반환함 # Array(배열) 의 shape을 반환함"
   ]
  },
  {
   "cell_type": "code",
   "execution_count": 23,
   "id": "1794c86f",
   "metadata": {},
   "outputs": [
    {
     "data": {
      "text/plain": [
       "array([2., 3., 4., 5.])"
      ]
     },
     "execution_count": 23,
     "metadata": {},
     "output_type": "execute_result"
    }
   ],
   "source": [
    "test_array\n",
    "#정수, String 으로 저장해도 float 형식으로 저장하여 float 형식의 array가 됨"
   ]
  },
  {
   "cell_type": "code",
   "execution_count": 38,
   "id": "805ab3b8",
   "metadata": {},
   "outputs": [
    {
     "data": {
      "text/plain": [
       "numpy.float32"
      ]
     },
     "execution_count": 38,
     "metadata": {},
     "output_type": "execute_result"
    }
   ],
   "source": [
    "type(test_array[1])"
   ]
  },
  {
   "cell_type": "code",
   "execution_count": 36,
   "id": "b7fa9a57",
   "metadata": {},
   "outputs": [
    {
     "data": {
      "text/plain": [
       "array([1., 2., 3., 4., 8.], dtype=float32)"
      ]
     },
     "execution_count": 36,
     "metadata": {},
     "output_type": "execute_result"
    }
   ],
   "source": [
    "test_array = np.array([1,2,3,4,\"8\"], np.float32)\n",
    "test_array"
   ]
  },
  {
   "cell_type": "code",
   "execution_count": 42,
   "id": "b7996734",
   "metadata": {},
   "outputs": [
    {
     "data": {
      "text/plain": [
       "dtype('float32')"
      ]
     },
     "execution_count": 42,
     "metadata": {},
     "output_type": "execute_result"
    }
   ],
   "source": [
    "test_array.dtype"
   ]
  },
  {
   "cell_type": "code",
   "execution_count": 44,
   "id": "e71d0d6c",
   "metadata": {},
   "outputs": [
    {
     "data": {
      "text/plain": [
       "(5,)"
      ]
     },
     "execution_count": 44,
     "metadata": {},
     "output_type": "execute_result"
    }
   ],
   "source": [
    "test_array.shape"
   ]
  },
  {
   "cell_type": "code",
   "execution_count": 51,
   "id": "882b3cca",
   "metadata": {},
   "outputs": [
    {
     "data": {
      "text/plain": [
       "(1, 5)"
      ]
     },
     "execution_count": 51,
     "metadata": {},
     "output_type": "execute_result"
    }
   ],
   "source": [
    "np.array([[1,3,4,5,'8']]).shape\n",
    "#(1,5)\n",
    "# 1 -> row를 의미\n",
    "# 5 -> row의 각 단위 \n",
    "# 큰 단위에서 작은 단위로\n",
    "# 새로 생긴 것이 앞에 생성되는 개념"
   ]
  },
  {
   "cell_type": "code",
   "execution_count": 52,
   "id": "bf115fc6",
   "metadata": {},
   "outputs": [
    {
     "data": {
      "text/plain": [
       "(4, 6)"
      ]
     },
     "execution_count": 52,
     "metadata": {},
     "output_type": "execute_result"
    }
   ],
   "source": [
    "np.array([[1,1,1,1,1,1] , [1,1,1,1,1,1] , [1,1,1,1,1,1] , [1,1,1,1,1,1]]).shape\n",
    "# (4, 6)\n",
    "# 4개의 row가 생성되고\n",
    "# 각 6개의 값이 있음"
   ]
  },
  {
   "cell_type": "code",
   "execution_count": 57,
   "id": "54c76ab8",
   "metadata": {},
   "outputs": [
    {
     "data": {
      "text/plain": [
       "(4, 3, 5)"
      ]
     },
     "execution_count": 57,
     "metadata": {},
     "output_type": "execute_result"
    }
   ],
   "source": [
    "np.array([[[1,1,1,1,1] , [1,1,1,1,1], [1,1,1,1,1]],\n",
    "          [[1,1,1,1,1] , [1,1,1,1,1], [1,1,1,1,1]],\n",
    "          [[1,1,1,1,1] , [1,1,1,1,1], [1,1,1,1,1]],\n",
    "          [[1,1,1,1,1] , [1,1,1,1,1], [1,1,1,1,1]],\n",
    "         ]).shape\n",
    "#(4, 3, 5)\n",
    "#4개의 3x5 행렬의 값\n",
    "#3개의 row\n",
    "#5개의 데이터"
   ]
  },
  {
   "cell_type": "code",
   "execution_count": null,
   "id": "02af8fdb",
   "metadata": {},
   "outputs": [],
   "source": []
  }
 ],
 "metadata": {
  "kernelspec": {
   "display_name": "Python 3 (ipykernel)",
   "language": "python",
   "name": "python3"
  },
  "language_info": {
   "codemirror_mode": {
    "name": "ipython",
    "version": 3
   },
   "file_extension": ".py",
   "mimetype": "text/x-python",
   "name": "python",
   "nbconvert_exporter": "python",
   "pygments_lexer": "ipython3",
   "version": "3.8.13"
  }
 },
 "nbformat": 4,
 "nbformat_minor": 5
}
