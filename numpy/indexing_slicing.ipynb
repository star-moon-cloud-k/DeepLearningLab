{
 "cells": [
  {
   "cell_type": "markdown",
   "id": "13e6b397",
   "metadata": {},
   "source": [
    "# Indexing & slicing"
   ]
  },
  {
   "cell_type": "markdown",
   "id": "e8650831",
   "metadata": {},
   "source": [
    "> List와 달리 이차원 배열에서 [0,0] 과 같은 표기법을 제공함\n",
    "\n",
    "> Matrix 일경우 앞은 row 뒤는 column을 의미함"
   ]
  },
  {
   "cell_type": "code",
   "execution_count": 2,
   "id": "af81ab8d",
   "metadata": {},
   "outputs": [],
   "source": [
    "import numpy as np"
   ]
  },
  {
   "cell_type": "markdown",
   "id": "f1505c0c",
   "metadata": {},
   "source": [
    "## indexing"
   ]
  },
  {
   "cell_type": "code",
   "execution_count": 3,
   "id": "564083bf",
   "metadata": {},
   "outputs": [],
   "source": [
    "a = np.array([[1,2,3], [4.5, 5,6]], int)"
   ]
  },
  {
   "cell_type": "code",
   "execution_count": 4,
   "id": "f6bceab6",
   "metadata": {},
   "outputs": [
    {
     "name": "stdout",
     "output_type": "stream",
     "text": [
      "[[1 2 3]\n",
      " [4 5 6]]\n"
     ]
    }
   ],
   "source": [
    "print(a)"
   ]
  },
  {
   "cell_type": "code",
   "execution_count": 5,
   "id": "1fe7aef0",
   "metadata": {},
   "outputs": [
    {
     "name": "stdout",
     "output_type": "stream",
     "text": [
      "1\n"
     ]
    }
   ],
   "source": [
    "print(a[0][0])"
   ]
  },
  {
   "cell_type": "markdown",
   "id": "6683c5c8",
   "metadata": {},
   "source": [
    "- Two dimesional array respresentation #1"
   ]
  },
  {
   "cell_type": "code",
   "execution_count": null,
   "id": "1f5715a8",
   "metadata": {},
   "outputs": [],
   "source": [
    "print(a[0,0])"
   ]
  },
  {
   "cell_type": "markdown",
   "id": "977dd5ee",
   "metadata": {},
   "source": [
    "- Two deimesional array representation #2"
   ]
  },
  {
   "cell_type": "code",
   "execution_count": 9,
   "id": "21934aeb",
   "metadata": {},
   "outputs": [
    {
     "name": "stdout",
     "output_type": "stream",
     "text": [
      "[[12  2  3]\n",
      " [ 4  5  6]]\n",
      "[[5 2 3]\n",
      " [4 5 6]]\n"
     ]
    }
   ],
   "source": [
    "a[0,0] = 12 #Matrix 0,0 에 12 할당\n",
    "print(a)\n",
    "\n",
    "a[0][0] = 5 #Matrix 0,0 에 5 할당\n",
    "print(a)"
   ]
  },
  {
   "cell_type": "code",
   "execution_count": 12,
   "id": "998eedcb",
   "metadata": {},
   "outputs": [
    {
     "data": {
      "text/plain": [
       "array([[1, 2, 3],\n",
       "       [4, 5, 6]])"
      ]
     },
     "execution_count": 12,
     "metadata": {},
     "output_type": "execute_result"
    }
   ],
   "source": [
    "test_example = np.array([[1,2,3],[4.5,5,6]], int)\n",
    "test_example"
   ]
  },
  {
   "cell_type": "code",
   "execution_count": 15,
   "id": "d4e3f77a",
   "metadata": {},
   "outputs": [
    {
     "data": {
      "text/plain": [
       "1"
      ]
     },
     "execution_count": 15,
     "metadata": {},
     "output_type": "execute_result"
    }
   ],
   "source": [
    "test_example[0][0]"
   ]
  },
  {
   "cell_type": "code",
   "execution_count": 16,
   "id": "3ee89433",
   "metadata": {},
   "outputs": [
    {
     "data": {
      "text/plain": [
       "1"
      ]
     },
     "execution_count": 16,
     "metadata": {},
     "output_type": "execute_result"
    }
   ],
   "source": [
    "test_example[0,0]"
   ]
  },
  {
   "cell_type": "markdown",
   "id": "cbecceee",
   "metadata": {},
   "source": [
    "## slicing"
   ]
  },
  {
   "cell_type": "code",
   "execution_count": 23,
   "id": "0b8b3b8f",
   "metadata": {},
   "outputs": [
    {
     "name": "stdout",
     "output_type": "stream",
     "text": [
      "[[ 1  2  3  4  5]\n",
      " [ 6  7  8  9 10]]\n"
     ]
    },
    {
     "data": {
      "text/plain": [
       "array([[ 6,  7,  8,  9, 10]])"
      ]
     },
     "execution_count": 23,
     "metadata": {},
     "output_type": "execute_result"
    }
   ],
   "source": [
    "a = np.array([[1,2,3,4,5],[6,7,8,9,10]], int)\n",
    "print(a)\n",
    "a[:,2:]  #전체 Row의 2열 이상\n",
    "a[1,1:3] #1Row 의 1열 ~ 2열\n",
    "a[1:3] #1Row ~ 2Row의 전체"
   ]
  },
  {
   "cell_type": "markdown",
   "id": "8a1fd46c",
   "metadata": {},
   "source": [
    "- List와 달리 행과 열 부분을 나눠서 slicing이 가능함\n",
    "- Matrix의 부분 집합을 추출할 때 유용함"
   ]
  },
  {
   "cell_type": "code",
   "execution_count": 20,
   "id": "3ea0a927",
   "metadata": {},
   "outputs": [
    {
     "name": "stdout",
     "output_type": "stream",
     "text": [
      "[[ 3  4  5]\n",
      " [ 8  9 10]]\n"
     ]
    }
   ],
   "source": [
    "print(a[:,2:])"
   ]
  },
  {
   "cell_type": "code",
   "execution_count": 21,
   "id": "067b049f",
   "metadata": {},
   "outputs": [
    {
     "name": "stdout",
     "output_type": "stream",
     "text": [
      "[7 8]\n"
     ]
    }
   ],
   "source": [
    "print(a[1,1:3])"
   ]
  },
  {
   "cell_type": "code",
   "execution_count": 22,
   "id": "fbc94143",
   "metadata": {},
   "outputs": [
    {
     "name": "stdout",
     "output_type": "stream",
     "text": [
      "[[ 6  7  8  9 10]]\n"
     ]
    }
   ],
   "source": [
    "print(a[1:3])"
   ]
  },
  {
   "cell_type": "code",
   "execution_count": 26,
   "id": "670bfe77",
   "metadata": {},
   "outputs": [
    {
     "name": "stdout",
     "output_type": "stream",
     "text": [
      "[[ 1  2  3  4]\n",
      " [ 5  6  7  8]\n",
      " [ 9 10 11 12]]\n"
     ]
    }
   ],
   "source": [
    "array = np.array([[1,2,3,4],[5,6,7,8],[9,10,11,12]])\n",
    "print(array)"
   ]
  },
  {
   "cell_type": "code",
   "execution_count": 27,
   "id": "a4841619",
   "metadata": {},
   "outputs": [
    {
     "name": "stdout",
     "output_type": "stream",
     "text": [
      "[[ 1  3]\n",
      " [ 5  7]\n",
      " [ 9 11]]\n"
     ]
    }
   ],
   "source": [
    "print(array[:, ::2])\n",
    "#::\n",
    "#건너 뛰는 연산\n",
    "#전체의 row\n",
    "#첫번째 index부터 2칸씩 건너뜀 _ 1, 2, 3, 4 인 경우 1과 3이 출력"
   ]
  },
  {
   "cell_type": "code",
   "execution_count": 28,
   "id": "95365a60",
   "metadata": {},
   "outputs": [
    {
     "name": "stdout",
     "output_type": "stream",
     "text": [
      "[[ 1  4]\n",
      " [ 9 12]]\n"
     ]
    }
   ],
   "source": [
    "print(array[::2, ::3])\n",
    "#첫번째 Row에서 2칸씩 건너뛰고\n",
    "#첫번째 index에서 3칸씩 건너뜀"
   ]
  },
  {
   "cell_type": "code",
   "execution_count": null,
   "id": "9ef9afff",
   "metadata": {},
   "outputs": [],
   "source": []
  }
 ],
 "metadata": {
  "kernelspec": {
   "display_name": "Python 3 (ipykernel)",
   "language": "python",
   "name": "python3"
  },
  "language_info": {
   "codemirror_mode": {
    "name": "ipython",
    "version": 3
   },
   "file_extension": ".py",
   "mimetype": "text/x-python",
   "name": "python",
   "nbconvert_exporter": "python",
   "pygments_lexer": "ipython3",
   "version": "3.8.13"
  }
 },
 "nbformat": 4,
 "nbformat_minor": 5
}
