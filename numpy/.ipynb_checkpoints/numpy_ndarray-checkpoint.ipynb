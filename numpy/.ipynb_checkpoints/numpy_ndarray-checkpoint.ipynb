{
 "cells": [
  {
   "cell_type": "markdown",
   "id": "f95b2862",
   "metadata": {},
   "source": [
    "# ndarray"
   ]
  },
  {
   "cell_type": "code",
   "execution_count": 30,
   "id": "c4d6b008",
   "metadata": {},
   "outputs": [],
   "source": [
    "import numpy as np"
   ]
  },
  {
   "cell_type": "code",
   "execution_count": 5,
   "id": "34f832c0",
   "metadata": {},
   "outputs": [],
   "source": [
    "test_array = np.array([2,3,4,\"5\"], float)\n",
    "# String Type의 데이터를 입력해도\n",
    "# Float Type으로 자동 형변환을 실시\n",
    "# Array(배열) 전체의 데이터 Type을 반환함 # Array(배열) 의 shape을 반환함"
   ]
  },
  {
   "cell_type": "code",
   "execution_count": 6,
   "id": "1794c86f",
   "metadata": {},
   "outputs": [
    {
     "data": {
      "text/plain": [
       "array([2., 3., 4., 5.])"
      ]
     },
     "execution_count": 6,
     "metadata": {},
     "output_type": "execute_result"
    }
   ],
   "source": [
    "test_array\n",
    "#정수, String 으로 저장해도 float 형식으로 저장하여 float 형식의 array가 됨"
   ]
  },
  {
   "cell_type": "code",
   "execution_count": 7,
   "id": "805ab3b8",
   "metadata": {},
   "outputs": [
    {
     "data": {
      "text/plain": [
       "numpy.float64"
      ]
     },
     "execution_count": 7,
     "metadata": {},
     "output_type": "execute_result"
    }
   ],
   "source": [
    "type(test_array[1])"
   ]
  },
  {
   "cell_type": "code",
   "execution_count": 8,
   "id": "b7fa9a57",
   "metadata": {},
   "outputs": [
    {
     "data": {
      "text/plain": [
       "array([1., 2., 3., 4., 8.], dtype=float32)"
      ]
     },
     "execution_count": 8,
     "metadata": {},
     "output_type": "execute_result"
    }
   ],
   "source": [
    "test_array = np.array([1,2,3,4,\"8\"], np.float32)\n",
    "test_array"
   ]
  },
  {
   "cell_type": "code",
   "execution_count": 9,
   "id": "b7996734",
   "metadata": {},
   "outputs": [
    {
     "data": {
      "text/plain": [
       "dtype('float32')"
      ]
     },
     "execution_count": 9,
     "metadata": {},
     "output_type": "execute_result"
    }
   ],
   "source": [
    "test_array.dtype"
   ]
  },
  {
   "cell_type": "code",
   "execution_count": 10,
   "id": "e71d0d6c",
   "metadata": {},
   "outputs": [
    {
     "data": {
      "text/plain": [
       "(5,)"
      ]
     },
     "execution_count": 10,
     "metadata": {},
     "output_type": "execute_result"
    }
   ],
   "source": [
    "test_array.shape\n",
    "# shape : numpy array의 object의 dimension 구성을 반환함\n",
    "# dtype : numpy array의 데이터 type을 반환함"
   ]
  },
  {
   "cell_type": "code",
   "execution_count": 11,
   "id": "882b3cca",
   "metadata": {},
   "outputs": [
    {
     "data": {
      "text/plain": [
       "(1, 5)"
      ]
     },
     "execution_count": 11,
     "metadata": {},
     "output_type": "execute_result"
    }
   ],
   "source": [
    "np.array([[1,3,4,5,'8']]).shape\n",
    "#(1,5)\n",
    "# 1 -> row를 의미\n",
    "# 5 -> row의 각 단위 \n",
    "# 큰 단위에서 작은 단위로\n",
    "# 새로 생긴 것이 앞에 생성되는 개념"
   ]
  },
  {
   "cell_type": "code",
   "execution_count": 12,
   "id": "bf115fc6",
   "metadata": {},
   "outputs": [
    {
     "data": {
      "text/plain": [
       "(4, 6)"
      ]
     },
     "execution_count": 12,
     "metadata": {},
     "output_type": "execute_result"
    }
   ],
   "source": [
    "np.array([[1,1,1,1,1,1] , [1,1,1,1,1,1] , [1,1,1,1,1,1] , [1,1,1,1,1,1]]).shape\n",
    "# (4, 6)\n",
    "# 4개의 row가 생성되고\n",
    "# 각 6개의 값이 있음"
   ]
  },
  {
   "cell_type": "code",
   "execution_count": 13,
   "id": "54c76ab8",
   "metadata": {},
   "outputs": [
    {
     "data": {
      "text/plain": [
       "(4, 3, 5)"
      ]
     },
     "execution_count": 13,
     "metadata": {},
     "output_type": "execute_result"
    }
   ],
   "source": [
    "np.array([[[1,1,1,1,1] , [1,1,1,1,1], [1,1,1,1,1]],\n",
    "          [[1,1,1,1,1] , [1,1,1,1,1], [1,1,1,1,1]],\n",
    "          [[1,1,1,1,1] , [1,1,1,1,1], [1,1,1,1,1]],\n",
    "          [[1,1,1,1,1] , [1,1,1,1,1], [1,1,1,1,1]],\n",
    "         ]).shape\n",
    "#(4, 3, 5)\n",
    "#4개의 3x5 행렬의 값\n",
    "#3개의 row\n",
    "#5개의 데이터"
   ]
  },
  {
   "cell_type": "code",
   "execution_count": 26,
   "id": "02af8fdb",
   "metadata": {},
   "outputs": [
    {
     "name": "stdout",
     "output_type": "stream",
     "text": [
      "[1. 2. 3. 4. 5. 6. 7. 8.]\n"
     ]
    },
    {
     "data": {
      "text/plain": [
       "(8,)"
      ]
     },
     "execution_count": 26,
     "metadata": {},
     "output_type": "execute_result"
    }
   ],
   "source": [
    "test_array = np.array([1,2,3,4,5,6,7,8], float)\n",
    "print(test_array)\n",
    "test_array.shape\n",
    "#vector , array 1차원 배열\n",
    "#(8,) 값이 8개"
   ]
  },
  {
   "cell_type": "code",
   "execution_count": 21,
   "id": "d518203a",
   "metadata": {},
   "outputs": [
    {
     "name": "stdout",
     "output_type": "stream",
     "text": [
      "[[1, 2, 3, 4], [5, 6, 7, 8], [9, 1, 2, 3]]\n"
     ]
    },
    {
     "data": {
      "text/plain": [
       "(3, 4)"
      ]
     },
     "execution_count": 21,
     "metadata": {},
     "output_type": "execute_result"
    }
   ],
   "source": [
    "matrix = [[1,2,3,4],[5,6,7,8],[9,1,2,3]]\n",
    "print(matrix)\n",
    "np.array(matrix, int).shape\n",
    "#matrix , 2차원 배열\n",
    "#(3,4)\n",
    "#row가 3개\n",
    "#값이 4개"
   ]
  },
  {
   "cell_type": "code",
   "execution_count": 31,
   "id": "4d627b75",
   "metadata": {},
   "outputs": [
    {
     "name": "stdout",
     "output_type": "stream",
     "text": [
      "[[[1, 2, 3, 4], [5, 6, 7, 8], [9, 1, 2, 3]], [[1, 2, 3, 4], [5, 6, 7, 8], [9, 1, 2, 3]], [[1, 2, 3, 4], [5, 6, 7, 8], [9, 1, 2, 3]], [[1, 2, 3, 4], [5, 6, 7, 8], [9, 1, 2, 3]]]\n"
     ]
    },
    {
     "data": {
      "text/plain": [
       "(4, 3, 4)"
      ]
     },
     "execution_count": 31,
     "metadata": {},
     "output_type": "execute_result"
    }
   ],
   "source": [
    "tensor = [[[1,2,3,4],[5,6,7,8],[9,1,2,3]],\n",
    "          [[1,2,3,4],[5,6,7,8],[9,1,2,3]],\n",
    "          [[1,2,3,4],[5,6,7,8],[9,1,2,3]],\n",
    "          [[1,2,3,4],[5,6,7,8],[9,1,2,3]]]\n",
    "print(tensor)\n",
    "np.array(tensor, int).shape\n",
    "#tensor, 3차원 배열,\n",
    "#(4,3,4)\n",
    "#matrix 가 4개\n",
    "#row 가 3개\n",
    "# index가 4개"
   ]
  },
  {
   "cell_type": "code",
   "execution_count": 33,
   "id": "6d594a50",
   "metadata": {},
   "outputs": [
    {
     "data": {
      "text/plain": [
       "array([[1, 2, 3],\n",
       "       [4, 5, 6]])"
      ]
     },
     "execution_count": 33,
     "metadata": {},
     "output_type": "execute_result"
    }
   ],
   "source": [
    "#Ndarray의 single element가 가지는 data type\n",
    "#각 element가 차지하는 memory의 크기가 결정됨\n",
    "np.array([[1,2,3,], [4.5, 5, 6]], dtype = int)"
   ]
  },
  {
   "cell_type": "code",
   "execution_count": 40,
   "id": "223453ed",
   "metadata": {},
   "outputs": [
    {
     "name": "stdout",
     "output_type": "stream",
     "text": [
      "3\n",
      "48\n"
     ]
    }
   ],
   "source": [
    "print(np.array(tensor,int).ndim)\n",
    "print(np.array(tensor,int).size)"
   ]
  },
  {
   "cell_type": "raw",
   "id": "e158cbac",
   "metadata": {},
   "source": [
    "- Ndarray의 single element가 가지는 data type\n",
    "- 각 element가 차지하는 memory의 크기가 결정됨"
   ]
  },
  {
   "cell_type": "code",
   "execution_count": 41,
   "id": "a599d07b",
   "metadata": {},
   "outputs": [
    {
     "data": {
      "text/plain": [
       "array([[1, 2, 3],\n",
       "       [4, 5, 6]])"
      ]
     },
     "execution_count": 41,
     "metadata": {},
     "output_type": "execute_result"
    }
   ],
   "source": [
    "np.array([[1,2,3], [4,5,6]], dtype=int)"
   ]
  },
  {
   "cell_type": "code",
   "execution_count": 45,
   "id": "dbc0c865",
   "metadata": {},
   "outputs": [
    {
     "data": {
      "text/plain": [
       "array([[1., 2., 3.],\n",
       "       [4., 5., 6.]], dtype=float32)"
      ]
     },
     "execution_count": 45,
     "metadata": {},
     "output_type": "execute_result"
    }
   ],
   "source": [
    "np.array([[1,2,3],[4,5,6]], dtype=np.float32)"
   ]
  },
  {
   "cell_type": "raw",
   "id": "e1ab3cec",
   "metadata": {},
   "source": [
    "- nbytes – ndarray object의 메모리 크기를 반환함"
   ]
  },
  {
   "cell_type": "code",
   "execution_count": 53,
   "id": "4071ed60",
   "metadata": {},
   "outputs": [
    {
     "name": "stdout",
     "output_type": "stream",
     "text": [
      "24\n",
      "6\n",
      "48\n"
     ]
    }
   ],
   "source": [
    "print(np.array([[1,2,3],[4,5,6]], dtype=np.float32).nbytes)\n",
    "print(np.array([[1,2,3],[4,5,6]], dtype=np.int8).nbytes)\n",
    "print(np.array([[1,2,3],[4,5,6]], dtype=np.float64).nbytes)"
   ]
  }
 ],
 "metadata": {
  "kernelspec": {
   "display_name": "Python 3 (ipykernel)",
   "language": "python",
   "name": "python3"
  },
  "language_info": {
   "codemirror_mode": {
    "name": "ipython",
    "version": 3
   },
   "file_extension": ".py",
   "mimetype": "text/x-python",
   "name": "python",
   "nbconvert_exporter": "python",
   "pygments_lexer": "ipython3",
   "version": "3.8.13"
  }
 },
 "nbformat": 4,
 "nbformat_minor": 5
}
