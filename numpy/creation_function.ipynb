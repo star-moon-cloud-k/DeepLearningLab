{
 "cells": [
  {
   "cell_type": "markdown",
   "id": "bb6bc7d7",
   "metadata": {},
   "source": [
    "# creation function"
   ]
  },
  {
   "cell_type": "markdown",
   "id": "6f14d39f",
   "metadata": {},
   "source": [
    "## arrage"
   ]
  },
  {
   "cell_type": "code",
   "execution_count": 1,
   "id": "4635f3d0",
   "metadata": {},
   "outputs": [],
   "source": [
    "import numpy as np"
   ]
  },
  {
   "cell_type": "code",
   "execution_count": null,
   "id": "9d9650c3",
   "metadata": {},
   "outputs": [],
   "source": []
  }
 ],
 "metadata": {
  "kernelspec": {
   "display_name": "Python 3 (ipykernel)",
   "language": "python",
   "name": "python3"
  },
  "language_info": {
   "codemirror_mode": {
    "name": "ipython",
    "version": 3
   },
   "file_extension": ".py",
   "mimetype": "text/x-python",
   "name": "python",
   "nbconvert_exporter": "python",
   "pygments_lexer": "ipython3",
   "version": "3.8.13"
  }
 },
 "nbformat": 4,
 "nbformat_minor": 5
}
